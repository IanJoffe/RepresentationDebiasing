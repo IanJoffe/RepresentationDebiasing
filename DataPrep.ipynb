{
 "cells": [
  {
   "cell_type": "code",
   "execution_count": null,
   "id": "9b55f3e2-8cb7-4fc6-9e1a-78b84f838b8e",
   "metadata": {},
   "outputs": [],
   "source": [
    "import json\n",
    "import requests\n",
    "import time\n",
    "import csv\n",
    "import pandas as pd"
   ]
  },
  {
   "cell_type": "markdown",
   "id": "a934cabc-3b24-437f-a9c7-7f6a6989ca8b",
   "metadata": {},
   "source": [
    "## Get list of bill summaries"
   ]
  },
  {
   "cell_type": "code",
   "execution_count": null,
   "id": "f156a5e3-bd3a-4243-adac-422771b6317e",
   "metadata": {},
   "outputs": [],
   "source": [
    "base_url = \"https://api.congress.gov/v3/summaries/\"\n",
    "congress_apikey = json.load(open(\"LibraryOfCongress.json\", 'r'))[\"apikey\"]\n",
    "congress_nums = [str(i) for i in range(118,106,-1)]\n",
    "bill_types = [\"hr\", \"s\", \"hjres\", \"sjres\"]"
   ]
  },
  {
   "cell_type": "code",
   "execution_count": null,
   "id": "c9bb13e8-38f0-4ffd-bd5c-3d9dc08865d5",
   "metadata": {
    "scrolled": true
   },
   "outputs": [],
   "source": [
    "with open(\"bill_summaries.csv\", mode='a', newline='') as f:\n",
    "    writer = csv.writer(f, delimiter=\",\")\n",
    "    for congress_num in congress_nums:\n",
    "        for bill_type in bill_types:\n",
    "            url = \"https://api.congress.gov/v3/summaries/\" + str(congress_num) + \"/\" + bill_type + \"?fromDateTime=2001-01-01T00:00:00Z&toDateTime=2024-05-01T00:00:00Z&sort=updateDate+asc&limit=250&api_key=\" + congress_apikey\n",
    "            offset = 0\n",
    "            limit = 250\n",
    "            url_with_offset = url + \"&offset=\" + str(offset)\n",
    "            response_data = requests.get(url_with_offset).json()\n",
    "            \n",
    "            try:\n",
    "                while response_data[\"summaries\"]:\n",
    "                    for i in range(len(response_data[\"summaries\"])):\n",
    "                        if len(response_data[\"summaries\"][i][\"text\"]) < 3000:\n",
    "                            writer.writerow([response_data[\"summaries\"][i][\"bill\"][\"congress\"],\n",
    "                                              response_data[\"summaries\"][i][\"bill\"][\"type\"],\n",
    "                                              response_data[\"summaries\"][i][\"bill\"][\"number\"],\n",
    "                                              response_data[\"summaries\"][i][\"text\"]])\n",
    "                    if len(response_data[\"summaries\"]) < 250:\n",
    "                        break\n",
    "                    else:\n",
    "                        offset += limit\n",
    "                        url_with_offset = url + \"&offset=\" + str(offset)\n",
    "                        response_data = requests.get(url_with_offset).json()\n",
    "                        if offset % 10000 == 0:\n",
    "                            print(\"Processed\", str(offset), \"Bills from Congress\", str(congress_num), bill_type)\n",
    "    \n",
    "                print(\"Processed Congress\", str(congress_num), bill_type)\n",
    "            except:\n",
    "                print(response_data)\n",
    "                assert False"
   ]
  },
  {
   "cell_type": "markdown",
   "id": "035e0e90-2f67-4aa9-adc4-3561b2db7893",
   "metadata": {},
   "source": [
    "### Deduplicate the Summaries file destructively"
   ]
  },
  {
   "cell_type": "code",
   "execution_count": null,
   "id": "4610d068-f75d-4736-9c0f-cc2fc477029e",
   "metadata": {},
   "outputs": [],
   "source": [
    "summaries = pd.read_csv(\"bill_summaries.csv\", header=None, names=[\"congress_num\", \"bill_type\", \"bill_num\", \"summary\"])\n",
    "summaries_deduped = summaries.drop_duplicates(subset=(\"congress_num\", \"bill_type\", \"bill_num\"), keep=\"first\")\n",
    "summaries_deduped.to_csv(\"bill_summaries.csv\")"
   ]
  },
  {
   "cell_type": "markdown",
   "id": "5c2061e3-8384-4703-9e2e-5a207a00dcef",
   "metadata": {},
   "source": [
    "## Get the number of D and R Sponsors of each bill"
   ]
  },
  {
   "cell_type": "code",
   "execution_count": null,
   "id": "f0ebb1cf-8efb-45fe-a14b-a23754760844",
   "metadata": {},
   "outputs": [],
   "source": [
    "def get_num_dem_sponsors(congress_num, bill_type, bill_num):\n",
    "    num_dem_sponsors = 0\n",
    "    url = \"https://api.congress.gov/v3/bill/\" + str(congress_num) + \"/\" + bill_type.lower() + \"/\" + str(bill_num) + \"?limit=250&offset=0&api_key=\" + congress_apikey\n",
    "    response = requests.get(url)\n",
    "    if response.status_code == 429: # check that the api didn't give a rate limit error\n",
    "        raise Exception(\"Rate limit exceeded\")\n",
    "    sponsors_data = response.json()[\"bill\"][\"sponsors\"]\n",
    "    for sponsor in sponsors_data:\n",
    "        if sponsor[\"party\"] == \"D\":\n",
    "            num_dem_sponsors += 1\n",
    "            \n",
    "    if len(sponsors_data) == 250: # in case there are more than 250 sponsors\n",
    "        url = \"https://api.congress.gov/v3/bill/\" + str(congress_num) + \"/\" + bill_type.lower() + \"/\" + str(bill_num) + \"?limit=250&offset=250&api_key=\" + congress_apikey\n",
    "        response = requests.get(url)\n",
    "        if response.status_code == 429:\n",
    "            raise Exception(\"Rate limit exceeded\")\n",
    "        sponsors_data = response.json()[\"bill\"][\"sponsors\"]\n",
    "        for sponsor in sponsors_data:\n",
    "            if sponsor[\"party\"] == \"D\":\n",
    "                num_dem_sponsors += 1\n",
    "                \n",
    "    url = \"https://api.congress.gov/v3/bill/\" + str(congress_num) + \"/\" + bill_type.lower() + \"/\" + str(bill_num) + \"/cosponsors\" + \"?limit=250&offset=0&api_key=\" + congress_apikey\n",
    "    response = requests.get(url)\n",
    "    if response.status_code == 429:\n",
    "        raise Exception(\"Rate limit exceeded\")\n",
    "    cosponsors_data = response.json()[\"cosponsors\"]\n",
    "    for cosponsor in cosponsors_data:\n",
    "        if cosponsor[\"party\"] == \"D\":\n",
    "            num_dem_sponsors += 1\n",
    "            \n",
    "    if len(cosponsors_data) == 250:\n",
    "        url = \"https://api.congress.gov/v3/bill/\" + str(congress_num) + \"/\" + bill_type.lower() + \"/\" + str(bill_num) + \"/cosponsors\" + \"?limit=250&offset=250&api_key=\" + congress_apikey\n",
    "        response = requests.get(url)\n",
    "        if response.status_code == 429:\n",
    "            raise Exception(\"Rate limit exceeded\")\n",
    "        cosponsors_data = response.json()[\"cosponsors\"]\n",
    "        for cosponsor in cosponsors_data:\n",
    "            if cosponsor[\"party\"] == \"D\":\n",
    "                num_dem_sponsors += 1\n",
    "                \n",
    "    return num_dem_sponsors\n",
    "\n",
    "def get_num_rep_sponsors(congress_num, bill_type, bill_num):\n",
    "    num_rep_sponsors = 0\n",
    "    url = \"https://api.congress.gov/v3/bill/\" + str(congress_num) + \"/\" + bill_type.lower() + \"/\" + str(bill_num) + \"?limit=250&offset=0&api_key=\" + congress_apikey\n",
    "    response = requests.get(url)\n",
    "    if response.status_code == 429:\n",
    "        raise Exception(\"Rate limit exceeded\")\n",
    "    sponsors_data = response.json()[\"bill\"][\"sponsors\"]\n",
    "    for sponsor in sponsors_data:\n",
    "        if sponsor[\"party\"] == \"R\":\n",
    "            num_rep_sponsors += 1\n",
    "            \n",
    "    if len(sponsors_data) == 250: # in case there are more than 250 sponsors\n",
    "        url = \"https://api.congress.gov/v3/bill/\" + str(congress_num) + \"/\" + bill_type.lower() + \"/\" + str(bill_num) + \"?limit=250&offset=250&api_key=\" + congress_apikey\n",
    "        response = requests.get(url)\n",
    "        if response.status_code == 429:\n",
    "            raise Exception(\"Rate limit exceeded\")\n",
    "        sponsors_data = response.json()[\"bill\"][\"sponsors\"]\n",
    "        for sponsor in sponsors_data:\n",
    "            if sponsor[\"party\"] == \"R\":\n",
    "                num_rep_sponsors += 1\n",
    "                \n",
    "    url = \"https://api.congress.gov/v3/bill/\" + str(congress_num) + \"/\" + bill_type.lower() + \"/\" + str(bill_num) + \"/cosponsors\" + \"?limit=250&offset=0&api_key=\" + congress_apikey\n",
    "    response = requests.get(url)\n",
    "    if response.status_code == 429:\n",
    "        raise Exception(\"Rate limit exceeded\")\n",
    "    cosponsors_data = response.json()[\"cosponsors\"]\n",
    "    for cosponsor in cosponsors_data:\n",
    "        if cosponsor[\"party\"] == \"R\":\n",
    "            num_rep_sponsors += 1\n",
    "            \n",
    "    if len(cosponsors_data) == 250:\n",
    "        url = \"https://api.congress.gov/v3/bill/\" + str(congress_num) + \"/\" + bill_type.lower() + \"/\" + str(bill_num) + \"/cosponsors\" + \"?limit=250&offset=250&api_key=\" + congress_apikey\n",
    "        response = requests.get(url)\n",
    "        if response.status_code == 429:\n",
    "            raise Exception(\"Rate limit exceeded\")\n",
    "        cosponsors_data = response.json()[\"cosponsors\"]\n",
    "        for cosponsor in cosponsors_data:\n",
    "            if cosponsor[\"party\"] == \"R\":\n",
    "                num_rep_sponsors += 1\n",
    "                \n",
    "    return num_rep_sponsors"
   ]
  },
  {
   "cell_type": "code",
   "execution_count": null,
   "id": "9e9b0a46-907c-4439-a31a-df1ad2a1d5db",
   "metadata": {},
   "outputs": [],
   "source": [
    "starting_position = 145749\n",
    "\n",
    "with open(\"bill_summaries.csv\", mode=\"r\") as infile, open(\"bill_summaries_and_sponsors.csv\", mode=\"a\") as outfile:\n",
    "    reader = csv.reader(infile)\n",
    "    writer = csv.writer(outfile)\n",
    "\n",
    "    header = next(reader)\n",
    "    if starting_position == 0:\n",
    "        writer.writerow(header + [\"D Sponsors\", \"R Sponsors\"])\n",
    "        \n",
    "    for row in reader:\n",
    "        if int(row[0]) < starting_position:\n",
    "            continue\n",
    "        try:\n",
    "            writer.writerow(row + \n",
    "                            [get_num_dem_sponsors(row[header.index(\"congress_num\")], row[header.index(\"bill_type\")], row[header.index(\"bill_num\")]),\n",
    "                             get_num_rep_sponsors(row[header.index(\"congress_num\")], row[header.index(\"bill_type\")], row[header.index(\"bill_num\")])])\n",
    "        except Exception as e:\n",
    "            print(e, row[0:4])\n",
    "            print(time.strftime(\"%H:%M:%S\", time.localtime()), \"Sleeping for an hour for rate limit to refresh\")\n",
    "            time.sleep(60*60)\n",
    "            writer.writerow(row + \n",
    "                            [get_num_dem_sponsors(row[header.index(\"congress_num\")], row[header.index(\"bill_type\")], row[header.index(\"bill_num\")]),\n",
    "                             get_num_rep_sponsors(row[header.index(\"congress_num\")], row[header.index(\"bill_type\")], row[header.index(\"bill_num\")])])\n",
    "        if int(row[0]) % 1000 == 0:\n",
    "            print(\"Completed Bill \" + str(row[0]))"
   ]
  }
 ],
 "metadata": {
  "kernelspec": {
   "display_name": "Python 3 (ipykernel)",
   "language": "python",
   "name": "python3"
  },
  "language_info": {
   "codemirror_mode": {
    "name": "ipython",
    "version": 3
   },
   "file_extension": ".py",
   "mimetype": "text/x-python",
   "name": "python",
   "nbconvert_exporter": "python",
   "pygments_lexer": "ipython3",
   "version": "3.12.2"
  }
 },
 "nbformat": 4,
 "nbformat_minor": 5
}
